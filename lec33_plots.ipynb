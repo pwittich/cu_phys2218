{
 "cells": [
  {
   "cell_type": "code",
   "execution_count": 10,
   "metadata": {},
   "outputs": [],
   "source": [
    "import matplotlib.pyplot as plt\n",
    "import numpy as np\n",
    "#from ugh import ugh\n",
    "\n",
    "%matplotlib inline\n",
    "# retina display\n",
    "plt.rcParams['figure.dpi'] = 300\n",
    "plt.rcParams['axes.grid'] = True\n",
    "plt.rcParams['figure.figsize'] = [10, 5]\n"
   ]
  },
  {
   "cell_type": "code",
   "execution_count": 11,
   "metadata": {},
   "outputs": [],
   "source": [
    "# n factorial\n",
    "def n_factorial(n):\n",
    "    if n == 0:\n",
    "        return 1\n",
    "    else:\n",
    "        return n * n_factorial(n - 1)\n",
    "\n",
    "\n",
    "def binominals(n, k):\n",
    "    return n_factorial(n) / (n_factorial(k) * n_factorial(n - k))\n",
    "\n",
    "# n choose m\n",
    "def n_choose_m(n, m):\n",
    "    return n_factorial(n) / (n_factorial(m) * n_factorial(n - m))\n",
    "\n",
    "\n",
    "\n",
    "def einstein_solid(n, q):\n",
    "    return n_choose_m(q+n-1, q)\n"
   ]
  },
  {
   "cell_type": "code",
   "execution_count": 12,
   "metadata": {},
   "outputs": [],
   "source": [
    "omegaA = [einstein_solid(3, q) for q in range(0, 7)]\n",
    "omegaB = [einstein_solid(3, q) for q in range(6,-1,-1)]\n",
    "omega = [i*j for i,j in zip(omegaA, omegaB)]\n"
   ]
  },
  {
   "cell_type": "code",
   "execution_count": 13,
   "metadata": {},
   "outputs": [
    {
     "name": "stdout",
     "output_type": "stream",
     "text": [
      "[28.0, 63.0, 90.0, 100.0, 90.0, 63.0, 28.0] [1.0, 3.0, 6.0, 10.0, 15.0, 21.0, 28.0] [28.0, 21.0, 15.0, 10.0, 6.0, 3.0, 1.0]\n"
     ]
    }
   ],
   "source": [
    "print(omega, omegaA, omegaB)"
   ]
  },
  {
   "cell_type": "code",
   "execution_count": 14,
   "metadata": {},
   "outputs": [],
   "source": [
    "def addlabels(x, y):\n",
    "    for i in range(len(x)):\n",
    "        plt.text(i-0.25, y[i]+2, y[i])\n",
    "\n",
    "\n",
    "plt.bar(range(0, 7), omega, width=1, color='b', alpha=0.5, edgecolor='black')\n",
    "addlabels(range(0, 7), omega)\n",
    "plt.xlabel('$q_A$')\n",
    "plt.ylabel('$\\Omega$')\n",
    "plt.savefig('einstein_6units.png')"
   ]
  },
  {
   "cell_type": "code",
   "execution_count": 15,
   "metadata": {},
   "outputs": [],
   "source": [
    "na = 300\n",
    "nb = 200\n",
    "q=100\n",
    "omegaA = [einstein_solid(na, q) for q in range(0, q+1)]\n",
    "omegaB = [einstein_solid(nb, q) for q in range(q, -1, -1)]\n",
    "omega = [i*j for i, j in zip(omegaA, omegaB)]\n"
   ]
  },
  {
   "cell_type": "code",
   "execution_count": 16,
   "metadata": {},
   "outputs": [
    {
     "name": "stdout",
     "output_type": "stream",
     "text": [
      "[2.7721676421723763e+81, 2.7814391058585717e+83, 1.3906728844879124e+85, 4.6193439606402085e+86, 1.1466819117160164e+88, 2.2687976211200156e+89, 3.72666729432837e+90, 5.226419212777242e+91, 6.38782084520561e+92, 6.911236787695539e+93, 6.701278180455547e+94, 5.881272766112291e+95, 4.710293660104807e+96, 3.466250944300122e+97, 2.357379606998917e+98, 1.4890919042666376e+99, 8.774303639247188e+99, 4.841095734778162e+100, 2.509339438095906e+101, 1.2255766096233162e+102, 5.654941788581583e+102, 2.4708399007968687e+103, 1.0244936076570927e+104, 4.0387979045543154e+104, 1.5164393521160988e+105, 5.431389470037355e+105, 1.858367747503657e+106, 6.082114169146414e+106, 1.9063307160148902e+107, 5.728452244485004e+107, 1.651986617023768e+108, 4.576195089728869e+108, 1.2187000892527712e+109, 3.1226164130031283e+109, 7.703305483249978e+109, 1.830853542563477e+110, 4.194742833472192e+110, 9.269730746170589e+110, 1.9767542534345904e+111, 4.06963966352051e+111, 8.091930634801982e+111, 1.5545285332890147e+112, 2.88626426368048e+112, 5.18070201197774e+112, 8.992179069262855e+112, 1.5095889986081016e+113, 2.451596306794653e+113, 3.85212559045928e+113, 5.8568486883380146e+113, 8.617410672751013e+113, 1.2270503405143621e+114, 1.6909505440586927e+114, 2.2551689211589218e+114, 2.9106511413873e+114, 3.6352463931614494e+114, 4.3930502609455317e+114, 5.136049320740989e+114, 5.808322616423857e+114, 6.352490772636266e+114, 6.717494286332294e+114, 6.866305444480905e+114, 6.782001399308941e+114, 6.4708456018481e+114, 5.961620259796563e+114, 5.301279244526458e+114, 4.547820832751208e+114, 3.7618758830870687e+114, 2.9987049829694113e+114, 2.3020611085663374e+114, 1.7008012807878282e+114, 1.2084140280081967e+114, 8.249828224916036e+113, 5.406914100382043e+113, 3.398613075226563e+113, 2.0466056135258735e+113, 1.1793299547215167e+113, 6.494489147975927e+112, 3.4130959216897544e+112, 1.7091103451704703e+112, 8.140765009701374e+111, 3.68138344955757e+111, 1.577231761465558e+111, 6.38710042584984e+110, 2.43838224019452e+110, 8.750169072920261e+109, 2.941780508017624e+109, 9.231027186373494e+108, 2.6919470571022807e+108, 7.259426267303589e+107, 1.7998769210589226e+107, 4.074959441910651e+106, 8.356034398996549e+105, 1.5366265180847019e+105, 2.5031742562535066e+104, 3.5562034594884304e+103, 4.316747100503543e+102, 4.353337174986978e+101, 3.501948141373914e+100, 2.10690050332205e+99, 8.428025532159164e+97, 1.681391093665753e+96]\n"
     ]
    }
   ],
   "source": [
    "print(omega)"
   ]
  },
  {
   "cell_type": "code",
   "execution_count": 17,
   "metadata": {},
   "outputs": [],
   "source": [
    "plt.bar(range(0, q+1), omega, width=1, color='b', alpha=0.5, edgecolor='black')\n",
    "#addlabels(range(0, q+1), omega)\n",
    "plt.xlabel('$q_A$')\n",
    "plt.ylabel('$\\Omega$')\n",
    "plt.savefig(f'einstein_{q}units.png')\n"
   ]
  },
  {
   "cell_type": "code",
   "execution_count": 18,
   "metadata": {},
   "outputs": [
    {
     "data": {
      "text/plain": [
       "<BarContainer object of 101 artists>"
      ]
     },
     "execution_count": 18,
     "metadata": {},
     "output_type": "execute_result"
    }
   ],
   "source": [
    "logomega = np.log(omega)\n",
    "plt.bar(range(0, q+1), logomega, width=1, color='b', alpha=0.5, edgecolor='black')\n"
   ]
  },
  {
   "cell_type": "code",
   "execution_count": null,
   "metadata": {},
   "outputs": [],
   "source": []
  }
 ],
 "metadata": {
  "interpreter": {
   "hash": "d1bcf2015140efba1309a3b878c8a09b28a5da1fac13dcbb304588e5a25844fe"
  },
  "kernelspec": {
   "display_name": "Python 3.8.11 64-bit ('base': conda)",
   "language": "python",
   "name": "python3"
  },
  "language_info": {
   "codemirror_mode": {
    "name": "ipython",
    "version": 3
   },
   "file_extension": ".py",
   "mimetype": "text/x-python",
   "name": "python",
   "nbconvert_exporter": "python",
   "pygments_lexer": "ipython3",
   "version": "3.11.6"
  },
  "orig_nbformat": 4
 },
 "nbformat": 4,
 "nbformat_minor": 2
}
