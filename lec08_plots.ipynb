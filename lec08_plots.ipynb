{
 "cells": [
  {
   "cell_type": "code",
   "execution_count": 4,
   "metadata": {},
   "outputs": [],
   "source": [
    "import matplotlib.pyplot as plt\n",
    "from matplotlib.animation import FuncAnimation\n",
    "import numpy as np\n",
    "import math\n",
    "\n",
    "# retina distplay\n",
    "%matplotlib inline\n",
    "# hidpi display\n",
    "plt.rcParams['figure.dpi'] = 300\n"
   ]
  },
  {
   "cell_type": "code",
   "execution_count": 5,
   "metadata": {},
   "outputs": [],
   "source": [
    "tvals = np.linspace(0, 10, 1000)\n",
    "\n",
    "omega1 = 2*math.pi*1\n",
    "omega2 = 2*math.pi*1.2\n",
    "\n",
    "def x1(t: float) -> np.ndarray:\n",
    "    return np.cos(omega1*t) + np.cos(omega2*t)\n",
    "\n",
    "def x2(t: float) -> np.ndarray:\n",
    "    return np.cos(omega1*t) + np.cos(omega2*t)\n"
   ]
  },
  {
   "cell_type": "code",
   "execution_count": 6,
   "metadata": {},
   "outputs": [
    {
     "ename": "RuntimeError",
     "evalue": "y must be a sequence",
     "output_type": "error",
     "traceback": [
      "\u001b[0;31m---------------------------------------------------------------------------\u001b[0m",
      "\u001b[0;31mRuntimeError\u001b[0m                              Traceback (most recent call last)",
      "Cell \u001b[0;32mIn[6], line 52\u001b[0m\n\u001b[1;32m     45\u001b[0m     \u001b[38;5;28;01mreturn\u001b[39;00m [line, line2, line3]\n\u001b[1;32m     48\u001b[0m anim \u001b[38;5;241m=\u001b[39m FuncAnimation(fig, plotter, init_func\u001b[38;5;241m=\u001b[39minit,\n\u001b[1;32m     49\u001b[0m                      frames\u001b[38;5;241m=\u001b[39m\u001b[38;5;241m500\u001b[39m, interval\u001b[38;5;241m=\u001b[39m\u001b[38;5;241m25\u001b[39m, blit\u001b[38;5;241m=\u001b[39m\u001b[38;5;28;01mTrue\u001b[39;00m)\n\u001b[0;32m---> 52\u001b[0m anim\u001b[38;5;241m.\u001b[39msave(\u001b[38;5;124m'\u001b[39m\u001b[38;5;124mlec08_anim.mp4\u001b[39m\u001b[38;5;124m'\u001b[39m,\n\u001b[1;32m     53\u001b[0m           writer\u001b[38;5;241m=\u001b[39m\u001b[38;5;124m'\u001b[39m\u001b[38;5;124mffmpeg\u001b[39m\u001b[38;5;124m'\u001b[39m, fps\u001b[38;5;241m=\u001b[39m\u001b[38;5;241m24\u001b[39m, dpi\u001b[38;5;241m=\u001b[39m\u001b[38;5;241m150\u001b[39m)\n",
      "File \u001b[0;32m~/miniconda3/lib/python3.11/site-packages/matplotlib/animation.py:1085\u001b[0m, in \u001b[0;36mAnimation.save\u001b[0;34m(self, filename, writer, fps, dpi, codec, bitrate, extra_args, metadata, extra_anim, savefig_kwargs, progress_callback)\u001b[0m\n\u001b[1;32m   1082\u001b[0m \u001b[38;5;28;01mfor\u001b[39;00m data \u001b[38;5;129;01min\u001b[39;00m \u001b[38;5;28mzip\u001b[39m(\u001b[38;5;241m*\u001b[39m[a\u001b[38;5;241m.\u001b[39mnew_saved_frame_seq() \u001b[38;5;28;01mfor\u001b[39;00m a \u001b[38;5;129;01min\u001b[39;00m all_anim]):\n\u001b[1;32m   1083\u001b[0m     \u001b[38;5;28;01mfor\u001b[39;00m anim, d \u001b[38;5;129;01min\u001b[39;00m \u001b[38;5;28mzip\u001b[39m(all_anim, data):\n\u001b[1;32m   1084\u001b[0m         \u001b[38;5;66;03m# TODO: See if turning off blit is really necessary\u001b[39;00m\n\u001b[0;32m-> 1085\u001b[0m         anim\u001b[38;5;241m.\u001b[39m_draw_next_frame(d, blit\u001b[38;5;241m=\u001b[39m\u001b[38;5;28;01mFalse\u001b[39;00m)\n\u001b[1;32m   1086\u001b[0m         \u001b[38;5;28;01mif\u001b[39;00m progress_callback \u001b[38;5;129;01mis\u001b[39;00m \u001b[38;5;129;01mnot\u001b[39;00m \u001b[38;5;28;01mNone\u001b[39;00m:\n\u001b[1;32m   1087\u001b[0m             progress_callback(frame_number, total_frames)\n",
      "File \u001b[0;32m~/miniconda3/lib/python3.11/site-packages/matplotlib/animation.py:1120\u001b[0m, in \u001b[0;36mAnimation._draw_next_frame\u001b[0;34m(self, framedata, blit)\u001b[0m\n\u001b[1;32m   1116\u001b[0m \u001b[38;5;28;01mdef\u001b[39;00m \u001b[38;5;21m_draw_next_frame\u001b[39m(\u001b[38;5;28mself\u001b[39m, framedata, blit):\n\u001b[1;32m   1117\u001b[0m     \u001b[38;5;66;03m# Breaks down the drawing of the next frame into steps of pre- and\u001b[39;00m\n\u001b[1;32m   1118\u001b[0m     \u001b[38;5;66;03m# post- draw, as well as the drawing of the frame itself.\u001b[39;00m\n\u001b[1;32m   1119\u001b[0m     \u001b[38;5;28mself\u001b[39m\u001b[38;5;241m.\u001b[39m_pre_draw(framedata, blit)\n\u001b[0;32m-> 1120\u001b[0m     \u001b[38;5;28mself\u001b[39m\u001b[38;5;241m.\u001b[39m_draw_frame(framedata)\n\u001b[1;32m   1121\u001b[0m     \u001b[38;5;28mself\u001b[39m\u001b[38;5;241m.\u001b[39m_post_draw(framedata, blit)\n",
      "File \u001b[0;32m~/miniconda3/lib/python3.11/site-packages/matplotlib/animation.py:1746\u001b[0m, in \u001b[0;36mFuncAnimation._draw_frame\u001b[0;34m(self, framedata)\u001b[0m\n\u001b[1;32m   1742\u001b[0m     \u001b[38;5;28mself\u001b[39m\u001b[38;5;241m.\u001b[39m_save_seq \u001b[38;5;241m=\u001b[39m \u001b[38;5;28mself\u001b[39m\u001b[38;5;241m.\u001b[39m_save_seq[\u001b[38;5;241m-\u001b[39m\u001b[38;5;28mself\u001b[39m\u001b[38;5;241m.\u001b[39m_save_count:]\n\u001b[1;32m   1744\u001b[0m \u001b[38;5;66;03m# Call the func with framedata and args. If blitting is desired,\u001b[39;00m\n\u001b[1;32m   1745\u001b[0m \u001b[38;5;66;03m# func needs to return a sequence of any artists that were modified.\u001b[39;00m\n\u001b[0;32m-> 1746\u001b[0m \u001b[38;5;28mself\u001b[39m\u001b[38;5;241m.\u001b[39m_drawn_artists \u001b[38;5;241m=\u001b[39m \u001b[38;5;28mself\u001b[39m\u001b[38;5;241m.\u001b[39m_func(framedata, \u001b[38;5;241m*\u001b[39m\u001b[38;5;28mself\u001b[39m\u001b[38;5;241m.\u001b[39m_args)\n\u001b[1;32m   1748\u001b[0m \u001b[38;5;28;01mif\u001b[39;00m \u001b[38;5;28mself\u001b[39m\u001b[38;5;241m.\u001b[39m_blit:\n\u001b[1;32m   1750\u001b[0m     err \u001b[38;5;241m=\u001b[39m \u001b[38;5;167;01mRuntimeError\u001b[39;00m(\u001b[38;5;124m'\u001b[39m\u001b[38;5;124mThe animation function must return a sequence \u001b[39m\u001b[38;5;124m'\u001b[39m\n\u001b[1;32m   1751\u001b[0m                        \u001b[38;5;124m'\u001b[39m\u001b[38;5;124mof Artist objects.\u001b[39m\u001b[38;5;124m'\u001b[39m)\n",
      "Cell \u001b[0;32mIn[6], line 16\u001b[0m, in \u001b[0;36mplotter\u001b[0;34m(t)\u001b[0m\n\u001b[1;32m     14\u001b[0m yvals2 \u001b[38;5;241m=\u001b[39m x2(t)\n\u001b[1;32m     15\u001b[0m yvals3 \u001b[38;5;241m=\u001b[39m \u001b[38;5;241m0.5\u001b[39m\u001b[38;5;241m*\u001b[39m(yvals \u001b[38;5;241m+\u001b[39m yvals2)\n\u001b[0;32m---> 16\u001b[0m line\u001b[38;5;241m.\u001b[39mset_data(xvals, yvals)\n\u001b[1;32m     17\u001b[0m line2\u001b[38;5;241m.\u001b[39mset_data(xvals, yvals2)\n\u001b[1;32m     18\u001b[0m line3\u001b[38;5;241m.\u001b[39mset_data(xvals, yvals3)\n",
      "File \u001b[0;32m~/miniconda3/lib/python3.11/site-packages/matplotlib/lines.py:666\u001b[0m, in \u001b[0;36mLine2D.set_data\u001b[0;34m(self, *args)\u001b[0m\n\u001b[1;32m    663\u001b[0m     x, y \u001b[38;5;241m=\u001b[39m args\n\u001b[1;32m    665\u001b[0m \u001b[38;5;28mself\u001b[39m\u001b[38;5;241m.\u001b[39mset_xdata(x)\n\u001b[0;32m--> 666\u001b[0m \u001b[38;5;28mself\u001b[39m\u001b[38;5;241m.\u001b[39mset_ydata(y)\n",
      "File \u001b[0;32m~/miniconda3/lib/python3.11/site-packages/matplotlib/lines.py:1308\u001b[0m, in \u001b[0;36mLine2D.set_ydata\u001b[0;34m(self, y)\u001b[0m\n\u001b[1;32m   1295\u001b[0m \u001b[38;5;250m\u001b[39m\u001b[38;5;124;03m\"\"\"\u001b[39;00m\n\u001b[1;32m   1296\u001b[0m \u001b[38;5;124;03mSet the data array for y.\u001b[39;00m\n\u001b[1;32m   1297\u001b[0m \n\u001b[0;32m   (...)\u001b[0m\n\u001b[1;32m   1305\u001b[0m \u001b[38;5;124;03mset_xdata\u001b[39;00m\n\u001b[1;32m   1306\u001b[0m \u001b[38;5;124;03m\"\"\"\u001b[39;00m\n\u001b[1;32m   1307\u001b[0m \u001b[38;5;28;01mif\u001b[39;00m \u001b[38;5;129;01mnot\u001b[39;00m np\u001b[38;5;241m.\u001b[39miterable(y):\n\u001b[0;32m-> 1308\u001b[0m     \u001b[38;5;28;01mraise\u001b[39;00m \u001b[38;5;167;01mRuntimeError\u001b[39;00m(\u001b[38;5;124m'\u001b[39m\u001b[38;5;124my must be a sequence\u001b[39m\u001b[38;5;124m'\u001b[39m)\n\u001b[1;32m   1309\u001b[0m \u001b[38;5;28mself\u001b[39m\u001b[38;5;241m.\u001b[39m_yorig \u001b[38;5;241m=\u001b[39m copy\u001b[38;5;241m.\u001b[39mcopy(y)\n\u001b[1;32m   1310\u001b[0m \u001b[38;5;28mself\u001b[39m\u001b[38;5;241m.\u001b[39m_invalidy \u001b[38;5;241m=\u001b[39m \u001b[38;5;28;01mTrue\u001b[39;00m\n",
      "\u001b[0;31mRuntimeError\u001b[0m: y must be a sequence"
     ]
    }
   ],
   "source": [
    "a = 1\n",
    "yvals = []\n",
    "yvals2 = []\n",
    "yvals3 = []\n",
    "xvals = np.linspace(0, 10, 500)\n",
    "\n",
    "llambda = 2.3\n",
    "k = 2*math.pi/llambda\n",
    "c = 0.08\n",
    "\n",
    "\n",
    "def plotter(t: int) -> np.ndarray:\n",
    "    yvals = x1(t)\n",
    "    yvals2 = x2(t)\n",
    "    yvals3 = 0.5*(yvals + yvals2)\n",
    "    line.set_data(xvals, yvals)\n",
    "    line2.set_data(xvals, yvals2)\n",
    "    line3.set_data(xvals, yvals3)\n",
    "    return [line, line2, line3]\n",
    "\n",
    "## Now make an animation\n",
    "\n",
    "\n",
    "# initializing a figure in\n",
    "# which the graph will be plotted\n",
    "fig = plt.figure()\n",
    "# marking the x-axis and y-axis\n",
    "axis = plt.axes(xlim=(0, 10),\n",
    "                ylim=(-1, 1))\n",
    "axis.set_aspect(1)\n",
    "\n",
    "# initializing a line variable\n",
    "line, = axis.plot([], [], 'b-', lw=1)\n",
    "line2, = axis.plot([], [], 'r-', lw=1)\n",
    "line3, = axis.plot([], [], 'g-', lw=1)\n",
    "#ugh()\n",
    "\n",
    "\n",
    "# data which the line will\n",
    "# contain (x, y)\n",
    "def init():\n",
    "    line.set_data([], [])\n",
    "    line2.set_data([], [])\n",
    "    line3.set_data([], [])\n",
    "    return [line, line2, line3]\n",
    "\n",
    "\n",
    "anim = FuncAnimation(fig, plotter, init_func=init,\n",
    "                     frames=500, interval=25, blit=True)\n",
    "\n",
    "\n",
    "anim.save('lec08_anim.mp4',\n",
    "          writer='ffmpeg', fps=24, dpi=150)\n"
   ]
  },
  {
   "cell_type": "code",
   "execution_count": null,
   "metadata": {},
   "outputs": [],
   "source": []
  }
 ],
 "metadata": {
  "interpreter": {
   "hash": "e7cb992eff3729d27dce190932b8ef531ad71864361f77a5f291ff69320987e4"
  },
  "kernelspec": {
   "display_name": "Python 3",
   "language": "python",
   "name": "python3"
  },
  "language_info": {
   "codemirror_mode": {
    "name": "ipython",
    "version": 3
   },
   "file_extension": ".py",
   "mimetype": "text/x-python",
   "name": "python",
   "nbconvert_exporter": "python",
   "pygments_lexer": "ipython3",
   "version": "3.11.6"
  }
 },
 "nbformat": 4,
 "nbformat_minor": 2
}
